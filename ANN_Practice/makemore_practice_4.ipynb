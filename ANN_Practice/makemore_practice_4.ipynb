{
 "cells": [
  {
   "cell_type": "code",
   "execution_count": 144,
   "metadata": {},
   "outputs": [],
   "source": [
    "import torch\n",
    "import torch.nn.functional as F\n",
    "import matplotlib.pyplot as plt\n",
    "%matplotlib inline"
   ]
  },
  {
   "cell_type": "code",
   "execution_count": 145,
   "metadata": {},
   "outputs": [
    {
     "name": "stdout",
     "output_type": "stream",
     "text": [
      "32033\n",
      "15\n",
      "['emma', 'olivia', 'ava', 'isabella', 'sophia', 'charlotte', 'mia', 'amelia']\n"
     ]
    }
   ],
   "source": [
    "# Read in all the words\n",
    "words = open('C:/Users/pchavan/The Bridge/MLStuff/makemore/names.txt', 'r').read().splitlines()\n",
    "print(len(words))\n",
    "print(max(len(w) for w in words))\n",
    "print(words[:8])"
   ]
  },
  {
   "cell_type": "code",
   "execution_count": 146,
   "metadata": {},
   "outputs": [
    {
     "name": "stdout",
     "output_type": "stream",
     "text": [
      "{1: 'a', 2: 'b', 3: 'c', 4: 'd', 5: 'e', 6: 'f', 7: 'g', 8: 'h', 9: 'i', 10: 'j', 11: 'k', 12: 'l', 13: 'm', 14: 'n', 15: 'o', 16: 'p', 17: 'q', 18: 'r', 19: 's', 20: 't', 21: 'u', 22: 'v', 23: 'w', 24: 'x', 25: 'y', 26: 'z', 0: '.'}\n",
      "27\n"
     ]
    }
   ],
   "source": [
    "#Build the vocabulary of characters and mapping to/from integers\n",
    "chars = sorted(list(set(''.join(words))))\n",
    "stoi = {s:i+1 for i, s in enumerate(chars)}\n",
    "stoi['.'] = 0\n",
    "itos = {i:s for s, i in stoi.items()}\n",
    "vocab_size = len(itos)\n",
    "print(itos)\n",
    "print(vocab_size)"
   ]
  },
  {
   "cell_type": "code",
   "execution_count": 147,
   "metadata": {},
   "outputs": [
    {
     "name": "stdout",
     "output_type": "stream",
     "text": [
      "torch.Size([182625, 3]) torch.Size([182625])\n",
      "torch.Size([22655, 3]) torch.Size([22655])\n",
      "torch.Size([22866, 3]) torch.Size([22866])\n"
     ]
    }
   ],
   "source": [
    "#build the dataset\n",
    "\n",
    "block_size = 3 # context lenght: how many characters do we tale to predict the next one\n",
    "\n",
    "def build_dataset(words):\n",
    "    X, Y = [], []\n",
    "\n",
    "    for w in words:\n",
    "        context = [0] * block_size\n",
    "        for ch in w + '.':\n",
    "            ix = stoi[ch]\n",
    "            X.append(context)\n",
    "            Y.append(ix)\n",
    "            context = context[1:] + [ix] #crop and append\n",
    "\n",
    "    X = torch.tensor(X)\n",
    "    Y = torch.tensor(Y)\n",
    "    print(X.shape, Y.shape)\n",
    "    return X, Y\n",
    "\n",
    "import random\n",
    "random.seed(42)\n",
    "random.shuffle(words)\n",
    "n1 = int(0.8 * len(words))\n",
    "n2 = int(0.9 * len(words))\n",
    "\n",
    "Xtr, Ytr = build_dataset(words[:n1])        #80%\n",
    "Xdev, Ydev = build_dataset(words[n1:n2])    #10%\n",
    "Xte, Yte = build_dataset(words[n2:])        #10%"
   ]
  },
  {
   "cell_type": "code",
   "execution_count": 148,
   "metadata": {},
   "outputs": [],
   "source": [
    "#Utility tools that we'll use later when comparing manual gradients to PyTorch gradients \n",
    "\n",
    "def cmp(s, dt, t):\n",
    "    ex = torch.all(dt == t.grad).item()\n",
    "    app = torch.allclose(dt, t.grad)\n",
    "    maxdiff = (dt - t.grad).abs().max().item()\n",
    "    print(f'{s:15s} | exat: {str(ex):5s} | approximate: {str(app):5s} | maxdiff: {maxdiff}')"
   ]
  },
  {
   "cell_type": "code",
   "execution_count": 149,
   "metadata": {},
   "outputs": [
    {
     "name": "stdout",
     "output_type": "stream",
     "text": [
      "4137\n"
     ]
    }
   ],
   "source": [
    "n_embd = 10 # The dimentionality of character embedding vectors\n",
    "n_hidden = 64 # The number of neurons in the hidden layer of MLP\n",
    "\n",
    "g = torch.Generator().manual_seed(2147483647)       # For reproducibility\n",
    "C = torch.randn((vocab_size, n_embd),               generator=g)\n",
    "# Layer 1\n",
    "W1 = torch.randn((n_embd * block_size, n_hidden),   generator=g) * (5 / 3) / ((n_embd * block_size) ** 0.5)\n",
    "b1 = torch.randn(n_hidden,                          generator=g) * 0.1      # b1 here is just for backprop practice; it's not required because of BN\n",
    "# Layer 2\n",
    "W2 = torch.randn((n_hidden, vocab_size),            generator=g) * 0.1\n",
    "b2 = torch.randn(vocab_size,                        generator=g) * 0.1\n",
    "# Batchnorm Parameters\n",
    "bngain = torch.randn((1, n_hidden)) * 0.1 + 1.0\n",
    "bnbias = torch.randn((1, n_hidden)) * 0.1\n",
    "\n",
    "parameters = [C, W1, b1, W2, b2, bngain, bnbias]\n",
    "print(sum(p.nelement() for p in parameters))\n",
    "for p in parameters:\n",
    "    p.requires_grad = True"
   ]
  },
  {
   "cell_type": "code",
   "execution_count": 150,
   "metadata": {},
   "outputs": [],
   "source": [
    "batch_size = 32\n",
    "n = batch_size # a shorter variable also, for conveniacnce\n",
    "\n",
    "# Construct a minibatch\n",
    "ix = torch.randint(0, Xtr.shape[0], (batch_size, ), generator=g)\n",
    "Xb, Yb = Xtr[ix], Ytr[ix]   # Batch X, Y"
   ]
  },
  {
   "cell_type": "code",
   "execution_count": 151,
   "metadata": {},
   "outputs": [
    {
     "data": {
      "text/plain": [
       "tensor(3.3547, grad_fn=<NegBackward0>)"
      ]
     },
     "execution_count": 151,
     "metadata": {},
     "output_type": "execute_result"
    }
   ],
   "source": [
    "#forward pass, \"chunkated\" into smaller steps that are possible to backward one at a time \n",
    "\n",
    "emb = C[Xb]                                                     # embed the characters ontp vecters \n",
    "embcat = emb.view(emb.shape[0], -1)                             # Concate the vectors\n",
    "# Linear Layer 1\n",
    "hprebn = embcat @ W1 + b1                                       # hidden layer preactivation\n",
    "# Batchnorm layer\n",
    "bnmeani = 1/n * hprebn.sum(0, keepdim = True)\n",
    "bndiff = hprebn - bnmeani\n",
    "bndiff2 = bndiff**2\n",
    "bnvar = 1/(n-1) * bndiff2.sum(0, keepdim = True)\n",
    "bnvar_inv = (bnvar + 1e-5) ** -0.5\n",
    "bnraw = bndiff * bnvar_inv\n",
    "hpreact = bngain * bnraw + bnbias\n",
    "# Non-Linearity\n",
    "h = torch.tanh(hpreact)                                         # Hidden layer\n",
    "# Linear Layer 2 \n",
    "logits = h @ W2 + b2                                            # Output Layer             \n",
    "# Cross entropy loss (Same as F.cross_entropy(logits, Yb))\n",
    "logit_maxes = logits.max(1, keepdim = True).values                            \n",
    "norm_logits = logits - logit_maxes                              # normalizing Logits\n",
    "counts = norm_logits.exp()\n",
    "counts_sum = counts.sum(1, keepdim=True)\n",
    "counts_sum_inv = counts_sum ** -1                               \n",
    "probs = counts * counts_sum_inv\n",
    "logprobs = probs.log()\n",
    "loss = -logprobs[range(n), Yb].mean()\n",
    "\n",
    "# PyTorch backward  pass\n",
    "for p in parameters:\n",
    "    p.grad = None\n",
    "\n",
    "for t in [logprobs, probs, counts, counts_sum, counts_sum_inv\n",
    "          , norm_logits, logit_maxes, logits, h, hpreact, bnraw\n",
    "          , bnvar, bnvar_inv, bndiff, bndiff2, hprebn, bnmeani\n",
    "          , embcat, emb]:\n",
    "    t.retain_grad()\n",
    "loss.backward()\n",
    "loss"
   ]
  },
  {
   "cell_type": "markdown",
   "metadata": {},
   "source": [
    "## Becoming a backprop Ninja!"
   ]
  },
  {
   "cell_type": "code",
   "execution_count": 152,
   "metadata": {},
   "outputs": [],
   "source": [
    "# Exercise 1: backprop through the whole thing manually, backpropagating through exactly all of the variables \n",
    "# as they are defined in the forward pass above, one by one"
   ]
  },
  {
   "cell_type": "code",
   "execution_count": 211,
   "metadata": {},
   "outputs": [
    {
     "name": "stdout",
     "output_type": "stream",
     "text": [
      "logprobs        | exat: True  | approximate: True  | maxdiff: 0.0\n",
      "probs           | exat: True  | approximate: True  | maxdiff: 0.0\n",
      "counts_sum_inv  | exat: True  | approximate: True  | maxdiff: 0.0\n",
      "counts_sum      | exat: True  | approximate: True  | maxdiff: 0.0\n",
      "counts          | exat: True  | approximate: True  | maxdiff: 0.0\n",
      "norm_logits     | exat: True  | approximate: True  | maxdiff: 0.0\n",
      "dlogit_maxes    | exat: True  | approximate: True  | maxdiff: 0.0\n",
      "dlogits         | exat: True  | approximate: True  | maxdiff: 0.0\n",
      "h               | exat: False | approximate: True  | maxdiff: 1.862645149230957e-09\n",
      "W2              | exat: True  | approximate: True  | maxdiff: 0.0\n",
      "b2              | exat: False | approximate: True  | maxdiff: 1.4901161193847656e-08\n",
      "hpreact         | exat: False | approximate: True  | maxdiff: 1.3969838619232178e-09\n",
      "dbngain         | exat: False | approximate: True  | maxdiff: 3.725290298461914e-09\n",
      "dbnraw          | exat: False | approximate: True  | maxdiff: 1.3969838619232178e-09\n",
      "dbnbias         | exat: False | approximate: True  | maxdiff: 5.587935447692871e-09\n",
      "dbnvar_inv      | exat: False | approximate: True  | maxdiff: 7.450580596923828e-09\n",
      "dbnvar          | exat: False | approximate: True  | maxdiff: 1.862645149230957e-09\n",
      "dbndiff2        | exat: False | approximate: True  | maxdiff: 5.820766091346741e-11\n",
      "dbndiff         | exat: False | approximate: True  | maxdiff: 1.1641532182693481e-09\n",
      "dbnmeani        | exat: False | approximate: True  | maxdiff: 4.190951585769653e-09\n",
      "dhprebn         | exat: False | approximate: True  | maxdiff: 1.3969838619232178e-09\n",
      "dembcat         | exat: False | approximate: True  | maxdiff: 3.026798367500305e-09\n",
      "dW1             | exat: False | approximate: True  | maxdiff: 8.381903171539307e-09\n",
      "db1             | exat: False | approximate: True  | maxdiff: 4.6566128730773926e-09\n",
      "demb            | exat: False | approximate: True  | maxdiff: 3.026798367500305e-09\n",
      "dC              | exat: False | approximate: True  | maxdiff: 7.916241884231567e-09\n"
     ]
    }
   ],
   "source": [
    "dlogprob = torch.zeros(logprobs.shape)\n",
    "dlogprob[range(n), Yb] = -1/n\n",
    "cmp('logprobs', dlogprob, logprobs)\n",
    "\n",
    "dprobs = dlogprob * 1 / probs\n",
    "cmp('probs', dprobs, probs)\n",
    "\n",
    "dcounts_sum_inv = (counts * dprobs).sum(1, keepdim=True)\n",
    "cmp('counts_sum_inv', dcounts_sum_inv, counts_sum_inv)\n",
    "\n",
    "dcounts = dprobs * counts_sum_inv\n",
    "\n",
    "dcounts_sum = dcounts_sum_inv * -1 * (counts_sum ** -2)\n",
    "cmp('counts_sum', dcounts_sum, counts_sum)\n",
    "\n",
    "dcounts += (torch.ones_like(counts) * dcounts_sum)\n",
    "cmp('counts', dcounts, counts)\n",
    "\n",
    "dnorm_logits = dcounts * norm_logits.exp()\n",
    "cmp('norm_logits', dnorm_logits, norm_logits)\n",
    "\n",
    "dlogits = dnorm_logits.clone()\n",
    "dlogit_maxes = -dnorm_logits.sum(1, keepdim=True)\n",
    "cmp('dlogit_maxes', dlogit_maxes, logit_maxes)\n",
    "\n",
    "# tmp = torch.zeros_like(logits)\n",
    "# tmp[range(n), (logits.max(1).indices)] = 1\n",
    "# dlogits += dlogit_maxes * tmp\n",
    "\n",
    "#OR\n",
    "\n",
    "dlogits += dlogit_maxes * F.one_hot(logits.max(1).indices, num_classes=logits.shape[1])\n",
    "cmp('dlogits', dlogits, logits)\n",
    "\n",
    "dh = dnorm_logits @ W2.T\n",
    "cmp('h', dh, h)\n",
    "\n",
    "dW2 = h.T @ dlogits\n",
    "cmp('W2', dW2, W2)\n",
    "\n",
    "db2 = dnorm_logits.sum(0)\n",
    "cmp('b2', db2, b2)\n",
    "\n",
    "# dhpreact = dh * (4 / (torch.exp(hpreact) + torch.exp(-hpreact))**2)\n",
    "dhpreact = dh * (1.0 - h**2)\n",
    "cmp('hpreact', dhpreact, hpreact)\n",
    "\n",
    "dbngain = (dhpreact * bnraw).sum(0, keepdim = True)\n",
    "dbnraw = dhpreact * bngain\n",
    "dbnbias = dhpreact.sum(0, keepdim=True)\n",
    "cmp('dbngain', dbngain, bngain)\n",
    "cmp('dbnraw', dbnraw, bnraw)\n",
    "cmp('dbnbias', dbnbias, bnbias)\n",
    "\n",
    "dbndiff = dbnraw * bnvar_inv\n",
    "dbnvar_inv = (dbnraw * bndiff).sum(0, keepdim = True)\n",
    "# cmp('dbndiff', dbndiff, bndiff)\n",
    "cmp('dbnvar_inv', dbnvar_inv, bnvar_inv)\n",
    "\n",
    "dbnvar = dbnvar_inv * -0.5 * ((bnvar + 1e-5)**-1.5)\n",
    "cmp('dbnvar', dbnvar, bnvar)\n",
    "\n",
    "dbndiff2 = dbnvar * 1/(n-1) * torch.ones_like(bndiff2)\n",
    "cmp('dbndiff2', dbndiff2, bndiff2)\n",
    "\n",
    "dbndiff += dbndiff2 * 2 * bndiff\n",
    "cmp('dbndiff', dbndiff, bndiff)\n",
    "\n",
    "dhprebn = dbndiff.clone()\n",
    "dbnmeani = -dbndiff.sum(0, keepdim=True)\n",
    "cmp('dbnmeani', dbnmeani, bnmeani)\n",
    "\n",
    "dhprebn += dbnmeani * 1/n * torch.ones_like(hprebn)\n",
    "cmp('dhprebn', dhprebn, hprebn)\n",
    "\n",
    "dembcat = dhprebn @ W1.T\n",
    "dW1 = embcat.T @ dhprebn\n",
    "db1 = dhprebn.sum(0)\n",
    "cmp('dembcat', dembcat, embcat)\n",
    "cmp('dW1', dW1, W1)\n",
    "cmp('db1', db1, b1)\n",
    "\n",
    "demb = dembcat.view(emb.shape)\n",
    "cmp('demb', demb, emb)\n",
    "\n",
    "dC = torch.zeros_like(C)\n",
    "for k in range(Xb.shape[0]):\n",
    "    for j in range(Xb.shape[1]):\n",
    "        ix = Xb[k, j]\n",
    "        dC[ix] += demb[k,j]\n",
    "cmp('dC', dC, C)"
   ]
  },
  {
   "cell_type": "code",
   "execution_count": 176,
   "metadata": {},
   "outputs": [
    {
     "data": {
      "text/plain": [
       "(torch.Size([32, 3, 10]), torch.Size([32, 3, 10]))"
      ]
     },
     "execution_count": 176,
     "metadata": {},
     "output_type": "execute_result"
    }
   ],
   "source": [
    "#emb = C[Xb]\n",
    "demb.shape, C[Xb].shape"
   ]
  },
  {
   "cell_type": "code",
   "execution_count": 158,
   "metadata": {},
   "outputs": [
    {
     "data": {
      "text/plain": [
       "torch.Size([32, 3, 10])"
      ]
     },
     "execution_count": 158,
     "metadata": {},
     "output_type": "execute_result"
    }
   ],
   "source": [
    "dC = torch.zeros_like(C)\n",
    "dC[Xb] += demb"
   ]
  },
  {
   "cell_type": "code",
   "execution_count": null,
   "metadata": {},
   "outputs": [],
   "source": [
    "for k in range(Xb.shape[0]):\n",
    "    for j in range(Xb.shape[1]):\n",
    "        ix = Xb[k, j]\n",
    "        dC[ix] += emb[k,j]"
   ]
  },
  {
   "cell_type": "code",
   "execution_count": 209,
   "metadata": {},
   "outputs": [
    {
     "data": {
      "text/plain": [
       "tensor([-1.9910e-03,  1.6615e-03,  2.4930e-03,  3.8594e-03, -2.7856e-05,\n",
       "        -6.2349e-04,  1.5953e-04,  2.4422e-03,  3.3883e-03, -4.3675e-03],\n",
       "       grad_fn=<SelectBackward0>)"
      ]
     },
     "execution_count": 209,
     "metadata": {},
     "output_type": "execute_result"
    }
   ],
   "source": [
    "demb[0,1]"
   ]
  },
  {
   "cell_type": "code",
   "execution_count": null,
   "metadata": {},
   "outputs": [],
   "source": []
  }
 ],
 "metadata": {
  "kernelspec": {
   "display_name": "Python 3",
   "language": "python",
   "name": "python3"
  },
  "language_info": {
   "codemirror_mode": {
    "name": "ipython",
    "version": 3
   },
   "file_extension": ".py",
   "mimetype": "text/x-python",
   "name": "python",
   "nbconvert_exporter": "python",
   "pygments_lexer": "ipython3",
   "version": "3.12.3"
  }
 },
 "nbformat": 4,
 "nbformat_minor": 2
}
