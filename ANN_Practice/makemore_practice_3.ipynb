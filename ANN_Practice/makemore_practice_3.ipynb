{
 "cells": [
  {
   "cell_type": "code",
   "execution_count": 19,
   "metadata": {},
   "outputs": [],
   "source": [
    "import torch\n",
    "import torch.nn.functional as F\n",
    "import matplotlib.pyplot as plt\n",
    "%matplotlib inline"
   ]
  },
  {
   "cell_type": "code",
   "execution_count": 20,
   "metadata": {},
   "outputs": [
    {
     "data": {
      "text/plain": [
       "['emma', 'olivia', 'ava', 'isabella', 'sophia', 'charlotte', 'mia', 'amelia']"
      ]
     },
     "execution_count": 20,
     "metadata": {},
     "output_type": "execute_result"
    }
   ],
   "source": [
    "#Read all the words\n",
    "words = open('C:/Users/pchavan/The Bridge/MLStuff/makemore/names.txt', 'r').read().splitlines()\n",
    "words[:8]"
   ]
  },
  {
   "cell_type": "code",
   "execution_count": 21,
   "metadata": {},
   "outputs": [
    {
     "data": {
      "text/plain": [
       "32033"
      ]
     },
     "execution_count": 21,
     "metadata": {},
     "output_type": "execute_result"
    }
   ],
   "source": [
    "len(words)"
   ]
  },
  {
   "cell_type": "code",
   "execution_count": 22,
   "metadata": {},
   "outputs": [
    {
     "name": "stdout",
     "output_type": "stream",
     "text": [
      "{1: 'a', 2: 'b', 3: 'c', 4: 'd', 5: 'e', 6: 'f', 7: 'g', 8: 'h', 9: 'i', 10: 'j', 11: 'k', 12: 'l', 13: 'm', 14: 'n', 15: 'o', 16: 'p', 17: 'q', 18: 'r', 19: 's', 20: 't', 21: 'u', 22: 'v', 23: 'w', 24: 'x', 25: 'y', 26: 'z', 0: '.'}\n",
      "27\n"
     ]
    }
   ],
   "source": [
    "#build the vocabulary of characters and mapping to/from integers    \n",
    "chars = sorted(list(set(''.join(words))))\n",
    "stoi = {s:i+1 for i, s in enumerate(chars)}\n",
    "stoi['.'] = 0\n",
    "itos = {i:s for s, i in stoi.items()}\n",
    "vocab_size = len(itos)\n",
    "print(itos)\n",
    "print(vocab_size)"
   ]
  },
  {
   "cell_type": "code",
   "execution_count": 23,
   "metadata": {},
   "outputs": [
    {
     "name": "stdout",
     "output_type": "stream",
     "text": [
      "torch.Size([182625, 3]) torch.Size([182625])\n",
      "torch.Size([22655, 3]) torch.Size([22655])\n",
      "torch.Size([22866, 3]) torch.Size([22866])\n"
     ]
    }
   ],
   "source": [
    "#build the dataset\n",
    "\n",
    "block_size = 3 #how many charaters we are going to use to predict next\n",
    "\n",
    "def build_dataset(words):\n",
    "    X, Y = [], []\n",
    "\n",
    "    for w in words:\n",
    "        # print(w)\n",
    "\n",
    "        context = [0] * block_size\n",
    "        for ch in w + '.':\n",
    "            ix = stoi[ch]\n",
    "            X.append(context)\n",
    "            Y.append(ix)\n",
    "            # print(''.join(itos[i] for i in context), '--->', itos[ix])\n",
    "            context = context[1:] + [ix]    #Crop and append\n",
    "\n",
    "    X = torch.tensor(X)\n",
    "    Y = torch.tensor(Y)\n",
    "    print(X.shape, Y.shape)\n",
    "    return X, Y\n",
    "\n",
    "import random \n",
    "random.seed(42)\n",
    "random.shuffle(words)\n",
    "n1 = int(0.8 * len(words))\n",
    "n2 = int(0.9 * len(words))\n",
    "\n",
    "Xtr, Ytr = build_dataset(words[:n1])\n",
    "Xdev, Ydev = build_dataset(words[n1:n2])\n",
    "Xte, Yte = build_dataset(words[n2:])"
   ]
  },
  {
   "cell_type": "code",
   "execution_count": 24,
   "metadata": {},
   "outputs": [],
   "source": [
    "n_embd = 10     # diamentionality of character embedding vectors\n",
    "n_hidden = 200  # the number of nurons in the hidden layer of the mlp \n",
    "\n",
    "g = torch.Generator().manual_seed(2147483647)\n",
    "C = torch.randn((vocab_size, n_embd),                   generator=g)\n",
    "W1 = torch.randn((n_embd * block_size, n_hidden),       generator=g) * (5/3) / ((n_embd * block_size) ** 0.5) #0.2\n",
    "b1 = torch.randn(n_hidden,                              generator=g) * 0.01\n",
    "W2 = torch.randn((n_hidden,vocab_size),                 generator=g) * 0.01\n",
    "b2 = torch.randn(vocab_size,                            generator=g) * 0.01\n",
    "\n",
    "bngain = torch.ones((1, n_hidden))\n",
    "bnbias = torch.ones((1, n_hidden))\n",
    "bnmean_running = torch.zeros((1, n_hidden))\n",
    "bnstd_running = torch.zeros((1, n_hidden))\n",
    "\n",
    "parameters = [C, W1, b1, W2, b2, bngain, bnbias]\n",
    "sum(p.nelement() for p in parameters)\n",
    "for p in parameters:\n",
    "    p.requires_grad = True"
   ]
  },
  {
   "cell_type": "code",
   "execution_count": 28,
   "metadata": {},
   "outputs": [
    {
     "name": "stdout",
     "output_type": "stream",
     "text": [
      "      0 /  100000 3.3267\n"
     ]
    }
   ],
   "source": [
    "#Optimization\n",
    "\n",
    "max_steps = 100000\n",
    "batch_size = 32\n",
    "lossi = []\n",
    "\n",
    "for i in range(max_steps):\n",
    "\n",
    "    #minibatch construct\n",
    "    ix = torch.randint(0, Xtr.shape[0], (batch_size,), generator= g)\n",
    "    Xb, Yb = Xtr[ix], Ytr[ix] # Batch X,Y\n",
    "\n",
    "    #Forward Pass\n",
    "    emb = C[Xb] #embed chars to vectors\n",
    "    embcat = emb.view(emb.shape[0], -1) # concatanate the vectors\n",
    "    #Linear Layer\n",
    "    hpreact = embcat @ W1 + b1 # Hidden layer pre-activation ## batch normalization has it's own bias\n",
    "    #Batchnorm Layer\n",
    "    #-----------------------------------------------------------------------------------------------------------\n",
    "    bnmeani = hpreact.mean(0, keepdim=True)\n",
    "    bnstdi = hpreact.std(0, keepdim=True)\n",
    "    hpreact = bngain * (hpreact - bnmeani) / bnstdi  +bnbias #batch normalization\n",
    "\n",
    "    with torch.no_grad():\n",
    "        bnmean_running = 0.999 * bnmean_running + 0.001 * bnmeani\n",
    "        bnstd_running = 0.999 * bnstd_running + 0.001 * bnstdi\n",
    "    #-----------------------------------------------------------------------------------------------------------\n",
    "    \n",
    "    #Non Linearity\n",
    "    h = torch.tanh(hpreact) #hidden layer\n",
    "    logits = h @ W2 + b2 # output layer\n",
    "    loss = F.cross_entropy(logits, Yb) #Loss Function\n",
    "    # print(loss.item())\n",
    "\n",
    "    #Backward Pass\n",
    "    for p in parameters:\n",
    "        p.grad = None\n",
    "    loss.backward()\n",
    "\n",
    "    #update \n",
    "    lr = 0.1 if i < 50000 else 0.01 # step learning rate decay\n",
    "    \n",
    "    for p in parameters:\n",
    "        p.data += -lr * p.grad\n",
    "\n",
    "    #track Stat\n",
    "    if i % 10000 == 0: # Print every once in a while\n",
    "        print(f'{i:7d} / {max_steps : 7d} {loss.item():.4f}')\n",
    "    lossi.append(loss.log10().item())\n",
    "    \n",
    "    break "
   ]
  },
  {
   "cell_type": "code",
   "execution_count": 12,
   "metadata": {},
   "outputs": [
    {
     "data": {
      "text/plain": [
       "[<matplotlib.lines.Line2D at 0x1196f1b5e50>]"
      ]
     },
     "execution_count": 12,
     "metadata": {},
     "output_type": "execute_result"
    },
    {
     "data": {
      "image/png": "[encoded data removed]",
      "text/plain": [
       "<Figure size 640x480 with 1 Axes>"
      ]
     },
     "metadata": {},
     "output_type": "display_data"
    }
   ],
   "source": [
    "plt.plot(lossi)"
   ]
  },
  {
   "cell_type": "code",
   "execution_count": 13,
   "metadata": {},
   "outputs": [],
   "source": [
    "#Calibrate batch norm at the end of Training\n",
    "\n",
    "with torch.no_grad():\n",
    "    #pass the training set through\n",
    "    emb = C[Xtr]\n",
    "    embcat = emb.view(emb.shape[0], -1)\n",
    "    hpreact = embcat @ W1 + b1\n",
    "    #measure the mean/std over entire training set\n",
    "    bnmeam = hpreact.mean(0, keepdim=True)\n",
    "    bnstd = hpreact.std(0, keepdim=True)"
   ]
  },
  {
   "cell_type": "code",
   "execution_count": 14,
   "metadata": {},
   "outputs": [
    {
     "name": "stdout",
     "output_type": "stream",
     "text": [
      "3.311413526535034\n",
      "3.3109118938446045\n",
      "3.311413526535034\n",
      "3.3109118938446045\n"
     ]
    }
   ],
   "source": [
    "@torch.no_grad()    # this decorator desables gradient tracking\n",
    "def split_loss(split):\n",
    "    x, y = {\n",
    "        'train': (Xtr, Ytr),\n",
    "        'val':(Xdev, Ydev),\n",
    "        'test':(Xte, Yte)\n",
    "    }[split]\n",
    "    emb = C[x]  # (N, block_size, n_embd)\n",
    "    embcat = emb.view(emb.shape[0], -1) # concat into (N, block_size * n_embd)\n",
    "    hpreact = embcat @ W1 + b1 # (N, num_hidden)\n",
    "    #hpreact = bngain * (hpreact - hpreact.mean(0, keepdim=True)) / hpreact.std(0, keepdim=True) + bnbias #batch normalization\n",
    "    hpreact = bngain * (hpreact - bnmean_running) / bnstd_running + bnbias #batch normalization\n",
    "    h = torch.tanh(hpreact) #N, n_hidden\n",
    "    logits = h @ W2 + b2 # (N, vocab_size)\n",
    "    loss = F.cross_entropy(logits, y)    \n",
    "    print(loss.item())\n",
    "\n",
    "split_loss('train')\n",
    "split_loss('val')\n",
    "\n",
    "# ver 2 \n",
    "# 2.2141671180725098\n",
    "# 2.262075424194336\n",
    "\n",
    "#Ver3\n",
    "# 2.0615365505218506\n",
    "# 2.1102068424224854\n",
    "\n",
    "#batch_norm\n",
    "# 2.0923383235931396\n",
    "# 2.12758731842041\n",
    "\n",
    "#bn_running\n",
    "# @torch.no_grad()    # this decorator desables gradient tracking\n",
    "def split_loss(split):\n",
    "    x, y = {\n",
    "        'train': (Xtr, Ytr),\n",
    "        'val':(Xdev, Ydev),\n",
    "        'test':(Xte, Yte)\n",
    "    }[split]\n",
    "    emb = C[x]  # (N, block_size, n_embd)\n",
    "    embcat = emb.view(emb.shape[0], -1) # concat into (N, block_size * n_embd)\n",
    "    hpreact = embcat @ W1 + b1 # (N, num_hidden)\n",
    "    #hpreact = bngain * (hpreact - hpreact.mean(0, keepdim=True)) / hpreact.std(0, keepdim=True) + bnbias #batch normalization\n",
    "    hpreact = bngain * (hpreact - bnmean_running) / bnstd_running + bnbias #batch normalization\n",
    "    h = torch.tanh(hpreact) #N, n_hidden\n",
    "    logits = h @ W2 + b2 # (N, vocab_size)\n",
    "    loss = F.cross_entropy(logits, y)    \n",
    "    print(loss.item())\n",
    "\n",
    "split_loss('train')\n",
    "split_loss('val')\n",
    "\n",
    "# ver 2 \n",
    "# 2.2141671180725098\n",
    "# 2.262075424194336\n",
    "\n",
    "#Ver3\n",
    "# 2.0615365505218506\n",
    "# 2.1102068424224854\n",
    "\n",
    "#batch_norm\n",
    "# 2.0923383235931396\n",
    "# 2.12758731842041\n",
    "\n",
    "#bn_running\n",
    "# 2.0923383235931396\n",
    "# 2.12758731842041\n",
    "\n"
   ]
  },
  {
   "cell_type": "code",
   "execution_count": 15,
   "metadata": {},
   "outputs": [
    {
     "name": "stdout",
     "output_type": "stream",
     "text": [
      "erquagmyazzszevvndhfyaloqetursjejgrlrg.\n",
      "ozcjydgeliihsmpqppaledepxvqnwxarqeptzkmhvqrpcn.\n",
      "szdbvrgxhgmjest.\n",
      "jcjrwjkjqqxntpucfkubzmgvdtrxyqqufmehgykmejqvskkydmzhjl.\n",
      "cakyybsufpzbjhlvjurenjcrtvwsvevoecmpfvdxrfqyxoeobhggptixjsfcueywhkhmrjolviilqiiffwvpkxwvlla.\n",
      "ortabfsztjnegoikvsblitgftxvbssivpu.\n",
      "meewrkepxcmvyhxavttudkjgczekhgkgtipvtudt.\n",
      "iwbddihzvorlq.\n",
      "cjakepxfgniagcrpppfmiipzjgvonxet.\n",
      "jydnblksqzporygnogsvmwosfzybsyknvmjcxtkncjbmu.\n",
      "jtew.\n",
      "aow.\n",
      "copmplxkkdcqbcep.\n",
      "ccdfivsnipimhtewmos.\n",
      "gouwzlrurdckappomtcokwxtnbnzkdphfam.\n",
      "xcojfffuncxkhosy.\n",
      "sj.\n",
      "ascnpc.\n",
      "cilytanczhndtebimm.\n",
      "ynw.\n"
     ]
    }
   ],
   "source": [
    "#Sample from model\n",
    "\n",
    "g = torch.Generator().manual_seed(2147483647 + 10)\n",
    "\n",
    "for _ in range(20):\n",
    "\n",
    "    out = []\n",
    "    context = [0] * block_size # initalizing with all ...\n",
    "    while True:\n",
    "        emb = C[torch.tensor([context])]\n",
    "        h = torch.tanh(emb.view(1, -1) @ W1 + b1)\n",
    "        logits = h @ W2 + b2\n",
    "        probs = F.softmax(logits, dim=1)\n",
    "        ix = torch.multinomial(probs, num_samples = 1, generator=g).item()\n",
    "        context = context[1:] + [ix]\n",
    "        out.append(ix)\n",
    "        if ix == 0:\n",
    "            break\n",
    "    print(''.join(itos[i] for i in out))"
   ]
  },
  {
   "cell_type": "code",
   "execution_count": 16,
   "metadata": {},
   "outputs": [],
   "source": [
    "#------------------------------SUMMARY--------------------------------#"
   ]
  },
  {
   "cell_type": "code",
   "execution_count": 17,
   "metadata": {},
   "outputs": [
    {
     "name": "stdout",
     "output_type": "stream",
     "text": [
      "46497\n"
     ]
    }
   ],
   "source": [
    "block_size = 3\n",
    "class Linear:\n",
    "\n",
    "    def __init__(self, fan_in, fan_out, bias = True):\n",
    "        self.weight = torch.randn((fan_in, fan_out), generator = g) / fan_in**0.5\n",
    "        self.bias = torch.zeros(fan_out) if bias else None\n",
    "\n",
    "    def __call__(self, x):\n",
    "        self.out = 0\n",
    "        self.out += x @ self.weight\n",
    "        if self.bias is not None:\n",
    "            self.out += self.bias\n",
    "        return self.out\n",
    "    \n",
    "    def parameters(self):\n",
    "        return [self.weight] + ([] if self.bias is None else [self.bias])\n",
    "    \n",
    "class Batchmorm1d:\n",
    "\n",
    "    def __init__(self, dim, eps = 1e-5, momentum = 0.1):\n",
    "        self.eps = eps\n",
    "        self.momentum = momentum\n",
    "        self.training = True\n",
    "        #parameters (trained with backprop)\n",
    "        self.gamma = torch.ones(dim)\n",
    "        self.beta = torch.zeros(dim)\n",
    "        #buffers (trained with a running 'momentum update')\n",
    "        self.running_mean = torch.zeros(dim)\n",
    "        self.running_var = torch.zeros(dim)\n",
    "\n",
    "    def __call__(self, x):\n",
    "        #Calculate the forward pass\n",
    "        if self.training:\n",
    "            xmean = x.mean(0, keepdim = True)   #batch mean\n",
    "            xvar = x.var(0, keepdim = True)     #batch variance\n",
    "        else:\n",
    "            xmean = self.running_mean\n",
    "            xvar = self.running_var\n",
    "        xhat = (x - xmean) / torch.sqrt(xvar + self.eps)    #normalize to unit variance\n",
    "        self.out = self.gamma * xhat + self.beta\n",
    "        # Update the buffer \n",
    "        if self.training:\n",
    "            with torch.no_grad():\n",
    "                self.running_mean = (1 - self.momentum) * self.running_mean + self.momentum * xmean\n",
    "                self.running_var = (1 - self.momentum) * self.running_mean + self.momentum * xvar\n",
    "        return self.out\n",
    "    \n",
    "    def parameters(self):\n",
    "        return [self.gamma, self.beta]\n",
    "    \n",
    "class Tanh:\n",
    "    def __call__(self, *args, **kwds):\n",
    "        self.out = torch.tanh(x)\n",
    "        return self.out\n",
    "    def parameters(self):\n",
    "        return []\n",
    "    \n",
    "n_embd = 10 #the dimentionality of the character embedding vectors\n",
    "n_hidden = 100 #the number of nurons in the hidden layer of the MLP\n",
    "g = torch.Generator().manual_seed(2147483647)   #for reproducibility\n",
    "\n",
    "C = torch.randn((vocab_size, n_embd),               generator= g)\n",
    "layers = [\n",
    "    Linear(n_embd * block_size, n_hidden), Tanh(),\n",
    "    Linear(           n_hidden, n_hidden), Tanh(),\n",
    "    Linear(           n_hidden, n_hidden), Tanh(),\n",
    "    Linear(           n_hidden, n_hidden), Tanh(),\n",
    "    Linear(           n_hidden, n_hidden), Tanh(),\n",
    "    Linear(           n_hidden, vocab_size)\n",
    "]\n",
    "\n",
    "with torch.no_grad():\n",
    "    # Lasr layer : Make less confident\n",
    "    layers[-1].weight *= 0.1\n",
    "    # All other layers : Apply again\n",
    "    for layer in layers[:-1]:\n",
    "        if isinstance(layer, Linear):\n",
    "            layer.weight *= 5/3\n",
    "\n",
    "parameters = [C] + [p for layer in layers for p in layer.parameters()]\n",
    "print(sum(p.nelement() for p in parameters)) #number of parameters in total\n",
    "for p in parameters:\n",
    "    p.requires_grad = True"
   ]
  },
  {
   "cell_type": "code",
   "execution_count": 18,
   "metadata": {},
   "outputs": [
    {
     "name": "stdout",
     "output_type": "stream",
     "text": [
      "      0 /  100000 3.2962\n"
     ]
    }
   ],
   "source": [
    "# Same optimization as last time\n",
    "max_steps = 100000\n",
    "batch_size = 32\n",
    "lossi = []\n",
    "\n",
    "for i in range(max_steps):\n",
    "\n",
    "    #minibatch construct\n",
    "    ix = torch.randint(0, Xtr.shape[0], (batch_size,), generator=g)\n",
    "    Xb, Yb = Xtr[ix], Ytr[ix]   # batch X, Y\n",
    "\n",
    "    #forward pass\n",
    "    emb = C[Xb] #embed chars to vectors\n",
    "    x = emb.view(emb.shape[0], -1) # concatanate the vectors\n",
    "    for layer in layers:\n",
    "        x = layer(x)\n",
    "    loss = F.cross_entropy(x, Yb) #Loss Function\n",
    "    # print(loss.item())\n",
    "\n",
    "    #Backward Pass\n",
    "    for layer in layers:\n",
    "        layer.out.retain_grad()         #After Debug : would take out retain grad\n",
    "    for p in parameters:\n",
    "        p.grad = None\n",
    "    loss.backward()\n",
    "\n",
    "    #update \n",
    "    lr = 0.1 if i < 50000 else 0.01 # step learning rate decay\n",
    "    \n",
    "    for p in parameters:\n",
    "        p.data += -lr * p.grad\n",
    "\n",
    "    #track Stat\n",
    "    if i % 10000 == 0: # Print every once in a while\n",
    "        print(f'{i:7d} / {max_steps : 7d} {loss.item():.4f}')\n",
    "    lossi.append(loss.log10().item())\n",
    "    \n",
    "    break \n",
    "    "
   ]
  },
  {
   "cell_type": "code",
   "execution_count": null,
   "metadata": {},
   "outputs": [],
   "source": [
    "#------------------------------SUMMARY--------------------------------#"
   ]
  }
 ],
 "metadata": {
  "kernelspec": {
   "display_name": "Python 3",
   "language": "python",
   "name": "python3"
  },
  "language_info": {
   "codemirror_mode": {
    "name": "ipython",
    "version": 3
   },
   "file_extension": ".py",
   "mimetype": "text/x-python",
   "name": "python",
   "nbconvert_exporter": "python",
   "pygments_lexer": "ipython3",
   "version": "3.12.3"
  }
 },
 "nbformat": 4,
 "nbformat_minor": 2
}
