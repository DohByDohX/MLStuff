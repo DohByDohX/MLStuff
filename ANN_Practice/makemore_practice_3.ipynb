{
 "cells": [
  {
   "cell_type": "code",
   "execution_count": 2,
   "metadata": {},
   "outputs": [],
   "source": [
    "import torch\n",
    "import torch.nn.functional as F\n",
    "import matplotlib.pyplot as plt\n",
    "%matplotlib inline"
   ]
  },
  {
   "cell_type": "code",
   "execution_count": 3,
   "metadata": {},
   "outputs": [
    {
     "data": {
      "text/plain": [
       "['emma', 'olivia', 'ava', 'isabella', 'sophia', 'charlotte', 'mia', 'amelia']"
      ]
     },
     "execution_count": 3,
     "metadata": {},
     "output_type": "execute_result"
    }
   ],
   "source": [
    "#Read all the words\n",
    "words = open('C:/Users/pchavan/The Bridge/MLStuff/makemore/names.txt', 'r').read().splitlines()\n",
    "words[:8]"
   ]
  },
  {
   "cell_type": "code",
   "execution_count": 4,
   "metadata": {},
   "outputs": [
    {
     "data": {
      "text/plain": [
       "32033"
      ]
     },
     "execution_count": 4,
     "metadata": {},
     "output_type": "execute_result"
    }
   ],
   "source": [
    "len(words)"
   ]
  },
  {
   "cell_type": "code",
   "execution_count": 5,
   "metadata": {},
   "outputs": [
    {
     "name": "stdout",
     "output_type": "stream",
     "text": [
      "{1: 'a', 2: 'b', 3: 'c', 4: 'd', 5: 'e', 6: 'f', 7: 'g', 8: 'h', 9: 'i', 10: 'j', 11: 'k', 12: 'l', 13: 'm', 14: 'n', 15: 'o', 16: 'p', 17: 'q', 18: 'r', 19: 's', 20: 't', 21: 'u', 22: 'v', 23: 'w', 24: 'x', 25: 'y', 26: 'z', 0: '.'}\n",
      "27\n"
     ]
    }
   ],
   "source": [
    "#build the vocabulary of characters and mapping to/from integers    \n",
    "chars = sorted(list(set(''.join(words))))\n",
    "stoi = {s:i+1 for i, s in enumerate(chars)}\n",
    "stoi['.'] = 0\n",
    "itos = {i:s for s, i in stoi.items()}\n",
    "vocab_size = len(itos)\n",
    "print(itos)\n",
    "print(vocab_size)"
   ]
  },
  {
   "cell_type": "code",
   "execution_count": 6,
   "metadata": {},
   "outputs": [
    {
     "name": "stdout",
     "output_type": "stream",
     "text": [
      "torch.Size([182625, 3]) torch.Size([182625])\n",
      "torch.Size([22655, 3]) torch.Size([22655])\n",
      "torch.Size([22866, 3]) torch.Size([22866])\n"
     ]
    }
   ],
   "source": [
    "#build the dataset\n",
    "\n",
    "block_size = 3 #how many charaters we are going to use to predict next\n",
    "\n",
    "def build_dataset(words):\n",
    "    X, Y = [], []\n",
    "\n",
    "    for w in words:\n",
    "        # print(w)\n",
    "\n",
    "        context = [0] * block_size\n",
    "        for ch in w + '.':\n",
    "            ix = stoi[ch]\n",
    "            X.append(context)\n",
    "            Y.append(ix)\n",
    "            # print(''.join(itos[i] for i in context), '--->', itos[ix])\n",
    "            context = context[1:] + [ix]    #Crop and append\n",
    "\n",
    "    X = torch.tensor(X)\n",
    "    Y = torch.tensor(Y)\n",
    "    print(X.shape, Y.shape)\n",
    "    return X, Y\n",
    "\n",
    "import random \n",
    "random.seed(42)\n",
    "random.shuffle(words)\n",
    "n1 = int(0.8 * len(words))\n",
    "n2 = int(0.9 * len(words))\n",
    "\n",
    "Xtr, Ytr = build_dataset(words[:n1])\n",
    "Xdev, Ydev = build_dataset(words[n1:n2])\n",
    "Xte, Yte = build_dataset(words[n2:])"
   ]
  },
  {
   "cell_type": "code",
   "execution_count": 61,
   "metadata": {},
   "outputs": [],
   "source": [
    "n_embd = 10     # diamentionality of character embedding vectors\n",
    "n_hidden = 200  # the number of nurons in the hidden layer of the mlp \n",
    "\n",
    "g = torch.Generator().manual_seed(2147483647)\n",
    "C = torch.randn((vocab_size, n_embd),                   generator=g)\n",
    "W1 = torch.randn((n_embd * block_size, n_hidden),       generator=g) * (5/3) / ((n_embd * block_size) ** 0.5) #0.2\n",
    "b1 = torch.randn(n_hidden,                              generator=g) * 0.01\n",
    "W2 = torch.randn((n_hidden,vocab_size),                 generator=g) * 0.01\n",
    "b2 = torch.randn(vocab_size,                            generator=g) * 0.01\n",
    "\n",
    "bngain = torch.ones((1, n_hidden))\n",
    "bnbias = torch.ones((1, n_hidden))\n",
    "bnmean_running = torch.zeros((1, n_hidden))\n",
    "bnstd_running = torch.zeros((1, n_hidden))\n",
    "\n",
    "parameters = [C, W1, b1, W2, b2, bngain, bnbias]\n",
    "sum(p.nelement() for p in parameters)\n",
    "for p in parameters:\n",
    "    p.requires_grad = True"
   ]
  },
  {
   "cell_type": "code",
   "execution_count": 62,
   "metadata": {},
   "outputs": [
    {
     "data": {
      "text/plain": [
       "torch.Size([1, 200])"
      ]
     },
     "execution_count": 62,
     "metadata": {},
     "output_type": "execute_result"
    }
   ],
   "source": [
    "hpreact.mean(0, keepdim=True).shape"
   ]
  },
  {
   "cell_type": "code",
   "execution_count": null,
   "metadata": {},
   "outputs": [
    {
     "name": "stdout",
     "output_type": "stream",
     "text": [
      "      0 /  100000 3.3392\n",
      "  10000 /  100000 2.2846\n",
      "  20000 /  100000 2.3283\n",
      "  30000 /  100000 2.5252\n",
      "  40000 /  100000 1.9593\n",
      "  50000 /  100000 2.5092\n",
      "  60000 /  100000 2.3292\n",
      "  70000 /  100000 2.0051\n",
      "  80000 /  100000 2.3472\n",
      "  90000 /  100000 2.0402\n"
     ]
    }
   ],
   "source": [
    "#Optimization\n",
    "\n",
    "max_steps = 100000\n",
    "batch_size = 32\n",
    "lossi = []\n",
    "\n",
    "for i in range(max_steps):\n",
    "\n",
    "    #minibatch construct\n",
    "    ix = torch.randint(0, Xtr.shape[0], (batch_size,), generator= g)\n",
    "    Xb, Yb = Xtr[ix], Ytr[ix] # Batch X,Y\n",
    "\n",
    "    #Forward Pass\n",
    "    emb = C[Xb] #embed chars to vectors\n",
    "    embcat = emb.view(emb.shape[0], -1) # concatanate the vectors\n",
    "    hpreact = embcat @ W1 #+ b1 # Hidden layer pre-activation ## batch normalization has it's own bias\n",
    "    bnmeani = hpreact.mean(0, keepdim=True)\n",
    "    bnstdi = hpreact.std(0, keepdim=True)\n",
    "    hpreact = bngain * (hpreact - bnmeani) / bnstdi  +bnbias #batch normalization\n",
    "\n",
    "    with torch.no_grad():\n",
    "        bnmean_running = 0.999 * bnmean_running + 0.001 * bnmeani\n",
    "        bnstd_running = 0.999 * bnstd_running + 0.001 * bnstdi\n",
    "    \n",
    "    h = torch.tanh(hpreact) #hidden layer\n",
    "    logits = h @ W2 + b2 # output layer\n",
    "    loss = F.cross_entropy(logits, Yb) #Loss Function\n",
    "    # print(loss.item())\n",
    "\n",
    "    #Backward Pass\n",
    "    for p in parameters:\n",
    "        p.grad = None\n",
    "    loss.backward()\n",
    "\n",
    "    #update \n",
    "    lr = 0.1 if i < 50000 else 0.01 # step learning rate decay\n",
    "    \n",
    "    for p in parameters:\n",
    "        p.data += -lr * p.grad\n",
    "\n",
    "    #track Stat\n",
    "    if i % 10000 == 0: # Print every once in a while\n",
    "        print(f'{i:7d} / {max_steps : 7d} {loss.item():.4f}')\n",
    "    lossi.append(loss.log10().item())\n",
    "    \n",
    "    # break "
   ]
  },
  {
   "cell_type": "code",
   "execution_count": 64,
   "metadata": {},
   "outputs": [
    {
     "data": {
      "text/plain": [
       "[<matplotlib.lines.Line2D at 0x1b70f743290>]"
      ]
     },
     "execution_count": 64,
     "metadata": {},
     "output_type": "execute_result"
    },
    {
     "data": {
      "image/png": "[encoded data removed]",
      "text/plain": [
       "<Figure size 640x480 with 1 Axes>"
      ]
     },
     "metadata": {},
     "output_type": "display_data"
    }
   ],
   "source": [
    "plt.plot(lossi)"
   ]
  },
  {
   "cell_type": "code",
   "execution_count": 66,
   "metadata": {},
   "outputs": [],
   "source": [
    "#Calibrate batch norm at the end of Training\n",
    "\n",
    "with torch.no_grad():\n",
    "    #pass the training set through\n",
    "    emb = C[Xtr]\n",
    "    embcat = emb.view(emb.shape[0], -1)\n",
    "    hpreact = embcat @ W1 + b1\n",
    "    #measure the mean/std over entire training set\n",
    "    bnmeam = hpreact.mean(0, keepdim=True)\n",
    "    bnstd = hpreact.std(0, keepdim=True)"
   ]
  },
  {
   "cell_type": "code",
   "execution_count": 67,
   "metadata": {},
   "outputs": [
    {
     "data": {
      "text/plain": [
       "tensor([[ 7.4860e-02, -3.1697e-01, -1.4777e+00,  1.5802e-01, -7.3262e-01,\n",
       "          8.9735e-01,  1.9023e+00,  1.2593e+00,  8.0500e-01,  1.7028e+00,\n",
       "         -1.6312e+00, -2.1639e+00, -4.2525e-01, -8.8260e-01, -6.8626e-01,\n",
       "          1.3959e+00,  4.2045e-01, -1.5600e+00, -1.0139e+00,  1.2501e+00,\n",
       "          1.3112e+00, -6.9404e-01,  5.0992e-01,  3.9745e-01,  8.5376e-01,\n",
       "          3.0704e-01,  7.9095e-01, -1.2233e+00,  2.6080e-01,  9.1456e-01,\n",
       "         -1.5105e-01, -1.3201e+00, -7.9279e-01,  1.2253e-01, -8.1485e-01,\n",
       "         -1.3728e+00, -1.7180e+00, -7.1914e-01,  1.5463e-01, -1.0429e-01,\n",
       "          4.3155e-01, -4.8529e-01, -1.3578e+00, -2.2507e-01,  1.1651e+00,\n",
       "          3.3672e-01, -2.7532e-01, -5.1702e-01,  8.6108e-01,  1.5286e+00,\n",
       "          4.5287e-01,  5.8105e-01,  1.9845e+00,  2.5009e-01,  1.2459e+00,\n",
       "         -1.6000e+00, -6.1709e-01,  5.9742e-01,  6.7848e-01, -4.4376e-01,\n",
       "         -9.0939e-01, -3.0308e-02, -6.6839e-01, -5.3268e-01,  2.9641e-01,\n",
       "          1.2670e-01,  2.6375e-01,  7.4191e-01, -4.6513e-01,  3.6282e-01,\n",
       "         -8.0234e-01,  3.6764e-01,  8.7523e-01, -9.6641e-01, -1.5079e+00,\n",
       "         -1.6112e-03,  1.1505e+00,  2.8066e-01,  6.6661e-01, -8.0509e-02,\n",
       "          8.1560e-01,  1.3812e+00,  6.4724e-01, -4.9993e-01,  8.3526e-01,\n",
       "         -9.6183e-01, -9.5130e-01, -6.9469e-01,  1.9377e-01, -8.4446e-01,\n",
       "          2.7044e-04,  1.1651e+00, -5.2729e-01, -3.7259e-01, -5.0145e-01,\n",
       "         -5.0334e-01, -3.5817e-01, -9.2981e-01,  1.4862e+00, -1.5695e+00,\n",
       "         -4.1961e-01,  6.7647e-01, -1.2654e+00,  4.9015e-01,  8.3465e-01,\n",
       "         -5.0218e-01, -1.0605e+00, -3.1280e-01,  1.9549e-01, -1.0340e-01,\n",
       "          4.4561e-01,  3.6990e-01, -2.1384e-01,  1.2486e+00,  1.5484e+00,\n",
       "          1.0166e+00,  4.8646e-01, -2.8690e-01, -1.7786e-01, -6.0990e-01,\n",
       "         -5.7373e-01, -9.1762e-01,  3.3349e-01,  1.3998e-01, -7.9989e-01,\n",
       "         -8.9046e-01, -1.7873e-01, -8.3423e-01, -1.4853e+00, -2.9910e-01,\n",
       "          1.2759e+00,  2.1149e-01,  2.8576e-01,  7.9637e-01,  2.7896e-01,\n",
       "         -9.8710e-01, -4.0888e-01,  5.6732e-01,  2.2279e-01,  1.5191e-01,\n",
       "          7.7629e-01,  3.4157e-01,  7.9300e-01,  6.0626e-01,  1.4860e+00,\n",
       "          2.3349e-01,  1.1659e+00, -1.4946e+00,  8.4114e-01,  1.3642e-01,\n",
       "         -1.4584e+00,  5.2737e-01,  7.1754e-01,  1.4218e+00,  2.0830e-01,\n",
       "         -6.7070e-01,  1.2093e+00, -7.0325e-01, -1.7052e+00,  3.8533e-01,\n",
       "          9.2335e-01, -3.1584e-01, -2.5400e-01, -2.3546e+00, -3.0201e-01,\n",
       "          3.7765e-02,  1.6472e-01, -1.0605e+00, -1.3439e+00,  2.9766e-01,\n",
       "          7.7746e-01, -1.0304e+00, -3.6975e-01, -1.9464e-01, -4.5148e-02,\n",
       "         -1.8068e-01,  1.3808e+00, -4.8751e-01,  1.1841e+00, -1.1792e+00,\n",
       "          1.7750e+00,  9.7474e-01,  2.7609e-01, -3.4144e-01, -6.8133e-01,\n",
       "          1.3124e-01,  2.2367e-01, -6.7604e-01,  1.6542e+00,  4.0455e-01,\n",
       "         -4.8141e-01,  1.2130e+00, -5.9123e-01,  6.4385e-01,  2.4407e-01,\n",
       "          4.6478e-01,  1.5682e+00, -2.9396e-01,  3.2833e-01,  1.2978e-01]])"
      ]
     },
     "execution_count": 67,
     "metadata": {},
     "output_type": "execute_result"
    }
   ],
   "source": [
    "bnmeam"
   ]
  },
  {
   "cell_type": "code",
   "execution_count": 68,
   "metadata": {},
   "outputs": [
    {
     "data": {
      "text/plain": [
       "tensor([[ 7.3727e-02, -3.2469e-01, -1.4775e+00,  1.6083e-01, -7.2662e-01,\n",
       "          8.9080e-01,  1.9039e+00,  1.2666e+00,  8.1070e-01,  1.7078e+00,\n",
       "         -1.6412e+00, -2.1674e+00, -4.2985e-01, -8.7516e-01, -6.9785e-01,\n",
       "          1.3984e+00,  4.2906e-01, -1.5555e+00, -1.0182e+00,  1.2605e+00,\n",
       "          1.3058e+00, -6.8484e-01,  5.0228e-01,  3.8325e-01,  8.4887e-01,\n",
       "          3.0533e-01,  7.9635e-01, -1.2271e+00,  2.7678e-01,  9.2923e-01,\n",
       "         -1.5662e-01, -1.3104e+00, -7.8411e-01,  1.1022e-01, -8.0387e-01,\n",
       "         -1.3766e+00, -1.6992e+00, -7.1808e-01,  1.3208e-01, -9.6625e-02,\n",
       "          4.2161e-01, -4.8674e-01, -1.3486e+00, -2.1071e-01,  1.1532e+00,\n",
       "          3.2484e-01, -2.7955e-01, -5.1323e-01,  8.5482e-01,  1.5189e+00,\n",
       "          4.5776e-01,  5.6588e-01,  1.9911e+00,  2.6246e-01,  1.2472e+00,\n",
       "         -1.6079e+00, -6.0931e-01,  6.0387e-01,  6.6495e-01, -4.4639e-01,\n",
       "         -9.1407e-01, -2.2838e-02, -6.6650e-01, -5.3514e-01,  2.9307e-01,\n",
       "          1.1213e-01,  2.6743e-01,  7.5427e-01, -4.6129e-01,  3.5912e-01,\n",
       "         -8.0526e-01,  3.7208e-01,  8.7286e-01, -9.4481e-01, -1.4932e+00,\n",
       "          4.6631e-04,  1.1453e+00,  2.7059e-01,  6.6263e-01, -9.4995e-02,\n",
       "          8.0353e-01,  1.3948e+00,  6.5467e-01, -4.9557e-01,  8.3737e-01,\n",
       "         -9.6875e-01, -9.6242e-01, -6.9280e-01,  1.9405e-01, -8.4142e-01,\n",
       "         -4.3164e-04,  1.1727e+00, -5.3286e-01, -3.8365e-01, -5.0308e-01,\n",
       "         -5.1221e-01, -3.5554e-01, -9.3439e-01,  1.4998e+00, -1.5680e+00,\n",
       "         -4.0718e-01,  6.8607e-01, -1.2705e+00,  4.8398e-01,  8.4531e-01,\n",
       "         -4.9976e-01, -1.0505e+00, -3.0859e-01,  2.0819e-01, -9.6035e-02,\n",
       "          4.4536e-01,  3.7776e-01, -2.0016e-01,  1.2454e+00,  1.5480e+00,\n",
       "          1.0170e+00,  4.8596e-01, -2.7671e-01, -1.7116e-01, -6.0386e-01,\n",
       "         -5.5643e-01, -9.0119e-01,  3.3552e-01,  1.5296e-01, -7.8823e-01,\n",
       "         -8.7724e-01, -1.7959e-01, -8.3526e-01, -1.4799e+00, -3.0389e-01,\n",
       "          1.2632e+00,  2.0265e-01,  2.7736e-01,  7.7957e-01,  2.8420e-01,\n",
       "         -9.7095e-01, -4.1533e-01,  5.7030e-01,  2.2934e-01,  1.6554e-01,\n",
       "          7.7266e-01,  3.5445e-01,  7.9284e-01,  6.2260e-01,  1.4850e+00,\n",
       "          2.3470e-01,  1.1658e+00, -1.4949e+00,  8.4636e-01,  1.3302e-01,\n",
       "         -1.4615e+00,  5.2703e-01,  7.1137e-01,  1.4290e+00,  2.0836e-01,\n",
       "         -6.5929e-01,  1.2151e+00, -7.0588e-01, -1.7004e+00,  3.9128e-01,\n",
       "          9.1377e-01, -3.0122e-01, -2.5801e-01, -2.3746e+00, -2.9925e-01,\n",
       "          5.9636e-02,  1.5531e-01, -1.0541e+00, -1.3432e+00,  3.0203e-01,\n",
       "          7.7693e-01, -1.0357e+00, -3.6385e-01, -1.7975e-01, -4.2048e-02,\n",
       "         -1.7956e-01,  1.3827e+00, -4.8353e-01,  1.1928e+00, -1.1773e+00,\n",
       "          1.7775e+00,  9.7439e-01,  2.7144e-01, -3.2780e-01, -6.6325e-01,\n",
       "          1.3206e-01,  2.2075e-01, -6.7542e-01,  1.6381e+00,  4.1393e-01,\n",
       "         -4.8847e-01,  1.2033e+00, -5.8529e-01,  6.3196e-01,  2.6333e-01,\n",
       "          4.5567e-01,  1.5776e+00, -2.9115e-01,  3.2112e-01,  1.2629e-01]])"
      ]
     },
     "execution_count": 68,
     "metadata": {},
     "output_type": "execute_result"
    }
   ],
   "source": [
    "bnmean_running"
   ]
  },
  {
   "cell_type": "code",
   "execution_count": null,
   "metadata": {},
   "outputs": [
    {
     "name": "stdout",
     "output_type": "stream",
     "text": [
      "2.092454433441162\n",
      "2.1278464794158936\n"
     ]
    }
   ],
   "source": [
    "@torch.no_grad()    # this decorator desables gradient tracking\n",
    "def split_loss(split):\n",
    "    x, y = {\n",
    "        'train': (Xtr, Ytr),\n",
    "        'val':(Xdev, Ydev),\n",
    "        'test':(Xte, Yte)\n",
    "    }[split]\n",
    "    emb = C[x]  # (N, block_size, n_embd)\n",
    "    embcat = emb.view(emb.shape[0], -1) # concat into (N, block_size * n_embd)\n",
    "    hpreact = embcat @ W1 + b1 # (N, num_hidden)\n",
    "    #hpreact = bngain * (hpreact - hpreact.mean(0, keepdim=True)) / hpreact.std(0, keepdim=True) + bnbias #batch normalization\n",
    "    hpreact = bngain * (hpreact - bnmean_running) / bnstd_running + bnbias #batch normalization\n",
    "    h = torch.tanh(hpreact) #N, n_hidden\n",
    "    logits = h @ W2 + b2 # (N, vocab_size)\n",
    "    loss = F.cross_entropy(logits, y)    \n",
    "    print(loss.item())\n",
    "\n",
    "split_loss('train')\n",
    "split_loss('val')\n",
    "\n",
    "# ver 2 \n",
    "# 2.2141671180725098\n",
    "# 2.262075424194336\n",
    "\n",
    "#Ver3\n",
    "# 2.0615365505218506\n",
    "# 2.1102068424224854\n",
    "\n",
    "#batch_norm\n",
    "# 2.0923383235931396\n",
    "# 2.12758731842041\n",
    "\n",
    "#bn_running\n",
    "# @torch.no_grad()    # this decorator desables gradient tracking\n",
    "def split_loss(split):\n",
    "    x, y = {\n",
    "        'train': (Xtr, Ytr),\n",
    "        'val':(Xdev, Ydev),\n",
    "        'test':(Xte, Yte)\n",
    "    }[split]\n",
    "    emb = C[x]  # (N, block_size, n_embd)\n",
    "    embcat = emb.view(emb.shape[0], -1) # concat into (N, block_size * n_embd)\n",
    "    hpreact = embcat @ W1 + b1 # (N, num_hidden)\n",
    "    #hpreact = bngain * (hpreact - hpreact.mean(0, keepdim=True)) / hpreact.std(0, keepdim=True) + bnbias #batch normalization\n",
    "    hpreact = bngain * (hpreact - bnmean_running) / bnstd_running + bnbias #batch normalization\n",
    "    h = torch.tanh(hpreact) #N, n_hidden\n",
    "    logits = h @ W2 + b2 # (N, vocab_size)\n",
    "    loss = F.cross_entropy(logits, y)    \n",
    "    print(loss.item())\n",
    "\n",
    "split_loss('train')\n",
    "split_loss('val')\n",
    "\n",
    "# ver 2 \n",
    "# 2.2141671180725098\n",
    "# 2.262075424194336\n",
    "\n",
    "#Ver3\n",
    "# 2.0615365505218506\n",
    "# 2.1102068424224854\n",
    "\n",
    "#batch_norm\n",
    "# 2.0923383235931396\n",
    "# 2.12758731842041\n",
    "\n",
    "#bn_running\n",
    "# 2.0923383235931396\n",
    "# 2.12758731842041\n",
    "\n"
   ]
  },
  {
   "cell_type": "code",
   "execution_count": 53,
   "metadata": {},
   "outputs": [
    {
     "name": "stdout",
     "output_type": "stream",
     "text": [
      "zrivagmyazzservendhrkklarzthrnghjd.\n",
      "quzraqhjador.\n",
      "xuzshppnplrengggvungxarqwptzsorfqharnjshdbvrgdhumiyan.\n",
      "jadrxjevqhxnbettf.\n",
      "ubukthdng.\n",
      "jaqufzeks.\n",
      "karshveklyzx.\n",
      "hjandagyansufpzerslvengrnj.\n",
      "quvwurjaqqzeffrddiffordyn.\n",
      "hmbptibrrumungynghmrangjud.\n",
      "qurffevshxwrlanklutzperz.\n",
      "jadgynzahmaitgf.\n",
      "xvalfivus.\n",
      "mburrkefxrdor.\n",
      "xavonghmuscoenngyannavtuttpfreddih.\n",
      "vorlqhajadrpxummikgrriqtaviczurgvontet.\n",
      "jhdnbrbak.\n",
      "phrygnoghanququzp.\n",
      "quknyxxcithbrid.\n",
      "qujthw.\n"
     ]
    }
   ],
   "source": [
    "#Sample from model\n",
    "\n",
    "g = torch.Generator().manual_seed(2147483647 + 10)\n",
    "\n",
    "for _ in range(20):\n",
    "\n",
    "    out = []\n",
    "    context = [0] * block_size # initalizing with all ...\n",
    "    while True:\n",
    "        emb = C[torch.tensor([context])]\n",
    "        h = torch.tanh(emb.view(1, -1) @ W1 + b1)\n",
    "        logits = h @ W2 + b2\n",
    "        probs = F.softmax(logits, dim=1)\n",
    "        ix = torch.multinomial(probs, num_samples = 1, generator=g).item()\n",
    "        context = context[1:] + [ix]\n",
    "        out.append(ix)\n",
    "        if ix == 0:\n",
    "            break\n",
    "    print(''.join(itos[i] for i in out))"
   ]
  },
  {
   "cell_type": "code",
   "execution_count": null,
   "metadata": {},
   "outputs": [],
   "source": []
  }
 ],
 "metadata": {
  "kernelspec": {
   "display_name": "Python 3",
   "language": "python",
   "name": "python3"
  },
  "language_info": {
   "codemirror_mode": {
    "name": "ipython",
    "version": 3
   },
   "file_extension": ".py",
   "mimetype": "text/x-python",
   "name": "python",
   "nbconvert_exporter": "python",
   "pygments_lexer": "ipython3",
   "version": "3.12.3"
  }
 },
 "nbformat": 4,
 "nbformat_minor": 2
}
